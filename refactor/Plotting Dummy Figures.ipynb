{
 "cells": [
  {
   "cell_type": "code",
   "execution_count": 2,
   "metadata": {
    "collapsed": true
   },
   "outputs": [],
   "source": [
    "%matplotlib inline\n",
    "import pandas\n",
    "import pylab\n",
    "import pytry\n",
    "import seaborn\n",
    "import numpy as np"
   ]
  },
  {
   "cell_type": "code",
   "execution_count": 3,
   "metadata": {
    "collapsed": true
   },
   "outputs": [],
   "source": [
    "m_data = {'Model-Free':np.array([.8, .8, .656, .665]),\n",
    "          'Model-Based':np.array([.774, .691, .697, .779]),\n",
    "          'Human Data':np.array([.860, .767, .632, .731])\n",
    "         }\n",
    "\n",
    "human_errors = np.array([.890-.832,\n",
    "                         .807-.728,\n",
    "                         .667-.596,\n",
    "                         .766-.696\n",
    "                        ])"
   ]
  },
  {
   "cell_type": "code",
   "execution_count": 14,
   "metadata": {
    "collapsed": true
   },
   "outputs": [],
   "source": [
    "   \n",
    "#mode = 'Model-Free'    \n",
    "#mode = 'Model-Based'  \n",
    "mode = 'Human Data'    "
   ]
  },
  {
   "cell_type": "code",
   "execution_count": 15,
   "metadata": {
    "collapsed": false
   },
   "outputs": [],
   "source": [
    "\n",
    "rew = ['+', '+', '-', '-']\n",
    "rar = ['C', 'R', 'C', 'R']\n",
    "\n",
    "data = []\n",
    "for d in range(10):\n",
    "    for i, v in enumerate(m_data[mode]):\n",
    "        dd= {}\n",
    "        dd['rewarded'] = rew[i]\n",
    "        if mode == 'Human Data':\n",
    "            v += np.random.normal()*human_errors[i]\n",
    "        dd['stay'] = v\n",
    "        dd['rare'] = rar[i]\n",
    "        data.append(dd)\n",
    "df = pandas.DataFrame(data)        "
   ]
  },
  {
   "cell_type": "code",
   "execution_count": 16,
   "metadata": {
    "collapsed": false
   },
   "outputs": [
    {
     "data": {
      "image/png": "[encoded data removed]",
      "text/plain": [
       "<matplotlib.figure.Figure at 0x10b961ef0>"
      ]
     },
     "metadata": {},
     "output_type": "display_data"
    }
   ],
   "source": [
    "seaborn.set_style(\"whitegrid\")\n",
    "pylab.figure(figsize=(3.5,2.5))\n",
    "seaborn.barplot('rewarded', 'stay', hue='rare', data=df, order=['+', '-'], hue_order=['C','R'])\n",
    "pylab.ylim(0,1.1)\n",
    "#pylab.title(mode)\n",
    "pylab.legend(title='', loc='upper right')\n",
    "pylab.xlabel('')\n",
    "pylab.ylabel('stay probability')\n",
    "pylab.tight_layout()\n",
    "pylab.savefig('dummy-%s.png' % (mode), dpi=450)\n",
    "pylab.show()"
   ]
  },
  {
   "cell_type": "code",
   "execution_count": null,
   "metadata": {
    "collapsed": true
   },
   "outputs": [],
   "source": []
  },
  {
   "cell_type": "code",
   "execution_count": null,
   "metadata": {
    "collapsed": true
   },
   "outputs": [],
   "source": []
  }
 ],
 "metadata": {
  "kernelspec": {
   "display_name": "Python 3",
   "language": "python",
   "name": "python3"
  },
  "language_info": {
   "codemirror_mode": {
    "name": "ipython",
    "version": 3
   },
   "file_extension": ".py",
   "mimetype": "text/x-python",
   "name": "python",
   "nbconvert_exporter": "python",
   "pygments_lexer": "ipython3",
   "version": "3.5.2"
  }
 },
 "nbformat": 4,
 "nbformat_minor": 1
}
